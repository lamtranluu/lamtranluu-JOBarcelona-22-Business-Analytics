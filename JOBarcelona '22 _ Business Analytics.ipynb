{
 "cells": [
  {
   "cell_type": "code",
   "execution_count": 1,
   "id": "f2555e33",
   "metadata": {},
   "outputs": [],
   "source": [
    "import pandas as pd\n",
    "import matplotlib.pyplot as plt\n",
    "import numpy as np\n",
    "import seaborn as sns\n",
    "import timeit"
   ]
  },
  {
   "cell_type": "code",
   "execution_count": 2,
   "id": "54bd8cab",
   "metadata": {},
   "outputs": [],
   "source": [
    "df= pd.read_csv('/Users/macbook/Documents/cars_bought_UK_2021.csv', sep=';')"
   ]
  },
  {
   "cell_type": "code",
   "execution_count": 3,
   "id": "776f8a86",
   "metadata": {},
   "outputs": [
    {
     "name": "stdout",
     "output_type": "stream",
     "text": [
      "<class 'pandas.core.frame.DataFrame'>\n",
      "RangeIndex: 3316 entries, 0 to 3315\n",
      "Data columns (total 9 columns):\n",
      " #   Column        Non-Null Count  Dtype \n",
      "---  ------        --------------  ----- \n",
      " 0   model         3316 non-null   object\n",
      " 1   price         3316 non-null   int64 \n",
      " 2   transmission  3316 non-null   object\n",
      " 3   mileage       3316 non-null   int64 \n",
      " 4   fuelType      3316 non-null   object\n",
      " 5   tax           3316 non-null   int64 \n",
      " 6   mpg           3316 non-null   object\n",
      " 7   engineSize    3316 non-null   object\n",
      " 8   Make          3316 non-null   object\n",
      "dtypes: int64(3), object(6)\n",
      "memory usage: 233.3+ KB\n"
     ]
    }
   ],
   "source": [
    "df.info()"
   ]
  },
  {
   "cell_type": "code",
   "execution_count": 4,
   "id": "e974c37e",
   "metadata": {},
   "outputs": [
    {
     "data": {
      "text/html": [
       "<div>\n",
       "<style scoped>\n",
       "    .dataframe tbody tr th:only-of-type {\n",
       "        vertical-align: middle;\n",
       "    }\n",
       "\n",
       "    .dataframe tbody tr th {\n",
       "        vertical-align: top;\n",
       "    }\n",
       "\n",
       "    .dataframe thead th {\n",
       "        text-align: right;\n",
       "    }\n",
       "</style>\n",
       "<table border=\"1\" class=\"dataframe\">\n",
       "  <thead>\n",
       "    <tr style=\"text-align: right;\">\n",
       "      <th></th>\n",
       "      <th>model</th>\n",
       "      <th>price</th>\n",
       "      <th>transmission</th>\n",
       "      <th>mileage</th>\n",
       "      <th>fuelType</th>\n",
       "      <th>tax</th>\n",
       "      <th>mpg</th>\n",
       "      <th>engineSize</th>\n",
       "      <th>Make</th>\n",
       "    </tr>\n",
       "  </thead>\n",
       "  <tbody>\n",
       "    <tr>\n",
       "      <th>0</th>\n",
       "      <td>5 Series</td>\n",
       "      <td>42995</td>\n",
       "      <td>Automatic</td>\n",
       "      <td>7500</td>\n",
       "      <td>Hybrid</td>\n",
       "      <td>135</td>\n",
       "      <td>156,9</td>\n",
       "      <td>2</td>\n",
       "      <td>BMW</td>\n",
       "    </tr>\n",
       "    <tr>\n",
       "      <th>1</th>\n",
       "      <td>Q5</td>\n",
       "      <td>48990</td>\n",
       "      <td>Semi-Auto</td>\n",
       "      <td>5000</td>\n",
       "      <td>Hybrid</td>\n",
       "      <td>135</td>\n",
       "      <td>117,7</td>\n",
       "      <td>2</td>\n",
       "      <td>audi</td>\n",
       "    </tr>\n",
       "    <tr>\n",
       "      <th>2</th>\n",
       "      <td>2 Series</td>\n",
       "      <td>34975</td>\n",
       "      <td>Semi-Auto</td>\n",
       "      <td>5</td>\n",
       "      <td>Diesel</td>\n",
       "      <td>145</td>\n",
       "      <td>48,7</td>\n",
       "      <td>2</td>\n",
       "      <td>BMW</td>\n",
       "    </tr>\n",
       "    <tr>\n",
       "      <th>3</th>\n",
       "      <td>Q5</td>\n",
       "      <td>35500</td>\n",
       "      <td>Semi-Auto</td>\n",
       "      <td>3500</td>\n",
       "      <td>Diesel</td>\n",
       "      <td>145</td>\n",
       "      <td>38,2</td>\n",
       "      <td>2</td>\n",
       "      <td>audi</td>\n",
       "    </tr>\n",
       "    <tr>\n",
       "      <th>4</th>\n",
       "      <td>TT</td>\n",
       "      <td>28800</td>\n",
       "      <td>Semi-Auto</td>\n",
       "      <td>241</td>\n",
       "      <td>Petrol</td>\n",
       "      <td>145</td>\n",
       "      <td>40,9</td>\n",
       "      <td>2</td>\n",
       "      <td>audi</td>\n",
       "    </tr>\n",
       "  </tbody>\n",
       "</table>\n",
       "</div>"
      ],
      "text/plain": [
       "       model  price transmission  mileage fuelType  tax    mpg engineSize  \\\n",
       "0   5 Series  42995    Automatic     7500   Hybrid  135  156,9          2   \n",
       "1         Q5  48990    Semi-Auto     5000   Hybrid  135  117,7          2   \n",
       "2   2 Series  34975    Semi-Auto        5   Diesel  145   48,7          2   \n",
       "3         Q5  35500    Semi-Auto     3500   Diesel  145   38,2          2   \n",
       "4         TT  28800    Semi-Auto      241   Petrol  145   40,9          2   \n",
       "\n",
       "   Make  \n",
       "0   BMW  \n",
       "1  audi  \n",
       "2   BMW  \n",
       "3  audi  \n",
       "4  audi  "
      ]
     },
     "execution_count": 4,
     "metadata": {},
     "output_type": "execute_result"
    }
   ],
   "source": [
    "df.head(5)"
   ]
  },
  {
   "cell_type": "code",
   "execution_count": 5,
   "id": "97e1ac33",
   "metadata": {},
   "outputs": [
    {
     "data": {
      "text/plain": [
       "118"
      ]
     },
     "execution_count": 5,
     "metadata": {},
     "output_type": "execute_result"
    }
   ],
   "source": [
    "#check duplicated\n",
    "df.duplicated().sum()"
   ]
  },
  {
   "cell_type": "code",
   "execution_count": 6,
   "id": "6ad356a2",
   "metadata": {},
   "outputs": [],
   "source": [
    "df = df.drop_duplicates()"
   ]
  },
  {
   "cell_type": "code",
   "execution_count": 7,
   "id": "b1bfdc7a",
   "metadata": {},
   "outputs": [],
   "source": [
    "df.reset_index(drop=True, inplace=True)"
   ]
  },
  {
   "cell_type": "markdown",
   "id": "d83b9995",
   "metadata": {},
   "source": [
    "### ¿Cuáles son las marcas de coches que generan más ingresos?"
   ]
  },
  {
   "cell_type": "code",
   "execution_count": 8,
   "id": "5335c3ad",
   "metadata": {},
   "outputs": [
    {
     "data": {
      "text/plain": [
       "Make\n",
       "toyota      2925221\n",
       "Hyundai     3140578\n",
       "Ford        5247552\n",
       "skoda       6035019\n",
       "vw         23720628\n",
       "audi       24910400\n",
       "BMW        25559032\n",
       "Name: price, dtype: int64"
      ]
     },
     "execution_count": 8,
     "metadata": {},
     "output_type": "execute_result"
    }
   ],
   "source": [
    "df.groupby(['Make'])['price'].sum().sort_values()\n"
   ]
  },
  {
   "cell_type": "code",
   "execution_count": 35,
   "id": "94003e0a",
   "metadata": {},
   "outputs": [
    {
     "data": {
      "text/plain": [
       "Make\n",
       "Hyundai    19752.062893\n",
       "Ford       20823.619048\n",
       "skoda      22688.041353\n",
       "toyota     23033.236220\n",
       "vw         24130.852492\n",
       "BMW        35400.321330\n",
       "audi       36154.426705\n",
       "Name: price, dtype: float64"
      ]
     },
     "execution_count": 35,
     "metadata": {},
     "output_type": "execute_result"
    }
   ],
   "source": [
    "df.groupby(['Make'])['price'].mean().sort_values()\n"
   ]
  },
  {
   "cell_type": "markdown",
   "id": "88217215",
   "metadata": {},
   "source": [
    "### ¿Cuáles son los coches que generan más ingresos (tanto por coche como en conjunto)?"
   ]
  },
  {
   "cell_type": "code",
   "execution_count": 21,
   "id": "f60998e9",
   "metadata": {},
   "outputs": [
    {
     "data": {
      "text/plain": [
       "Make     model     \n",
       "vw        Golf         6017684\n",
       "BMW       3 Series     5090176\n",
       "audi      Q3           4390446\n",
       "          Q5           3928925\n",
       "vw        T-Roc        3473467\n",
       "          Tiguan       3256072\n",
       "audi      A4           3179214\n",
       "BMW       2 Series     2977616\n",
       "vw        Polo         2443856\n",
       "audi      A5           2322942\n",
       "BMW       5 Series     2153982\n",
       "          4 Series     2117323\n",
       "audi      Q7           2110752\n",
       "          A1           1962374\n",
       "vw        T-Cross      1922438\n",
       "audi      Q2           1642616\n",
       "BMW       X2           1635157\n",
       "vw        Passat       1581572\n",
       "BMW       1 Series     1570340\n",
       "Ford      Fiesta       1403500\n",
       "BMW       Z4           1351522\n",
       "skoda     Kodiaq       1337033\n",
       "audi      A3           1235005\n",
       "BMW       X3           1180176\n",
       "Ford      Focus        1164761\n",
       "skoda     Superb       1155772\n",
       "vw        Touareg      1139315\n",
       "BMW       M4           1056439\n",
       "          X1           1049769\n",
       "          X5           1027685\n",
       "vw        Up           1005626\n",
       "BMW       X7           1001973\n",
       "Ford      Puma          983686\n",
       "skoda     Scala         951661\n",
       "BMW       X6            929510\n",
       "audi      TT            810353\n",
       "BMW       X4            791714\n",
       "          8 Series      778413\n",
       "skoda     Kamiq         777654\n",
       "toyota    Corolla       768962\n",
       "Hyundai   Tucson        754255\n",
       "skoda     Octavia       744094\n",
       "audi      Q8            692064\n",
       "Hyundai   I10           665614\n",
       "skoda     Karoq         655436\n",
       "audi      A6            552980\n",
       "Hyundai   Santa Fe      518623\n",
       "vw        Arteon        513220\n",
       "          Caravelle     479683\n",
       "Ford      EcoSport      469155\n",
       "Name: price, dtype: int64"
      ]
     },
     "execution_count": 21,
     "metadata": {},
     "output_type": "execute_result"
    }
   ],
   "source": [
    "df.groupby(['Make','model'])['price'].sum().sort_values().nlargest(50)\n"
   ]
  },
  {
   "cell_type": "code",
   "execution_count": 41,
   "id": "84a3dd7f",
   "metadata": {},
   "outputs": [
    {
     "data": {
      "text/plain": [
       "Make     model           \n",
       "audi      R8                 138965.000000\n",
       "          RS6                103621.750000\n",
       "BMW       X7                  71569.500000\n",
       "audi      RS4                 69752.666667\n",
       "          Q8                  69206.400000\n",
       "BMW       8 Series            64867.750000\n",
       "audi      Q7                  63962.181818\n",
       "vw        California          61995.000000\n",
       "BMW       X6                  58094.375000\n",
       "          X5                  57093.611111\n",
       "audi      SQ5                 56450.000000\n",
       "          A8                  55627.500000\n",
       "BMW       7 Series            54743.000000\n",
       "          M4                  50306.619048\n",
       "toyota    Land Cruiser        50081.375000\n",
       "vw        Touareg             49535.434783\n",
       "          Caravelle           47968.300000\n",
       "BMW       X4                  46571.411765\n",
       "audi      S4                  45388.000000\n",
       "BMW       M2                  45247.250000\n",
       "audi      A7                  44974.000000\n",
       "          Q5                  43175.000000\n",
       "toyota    PROACE VERSO        42970.000000\n",
       "audi      RS3                 42323.333333\n",
       "BMW       X3                  42149.142857\n",
       "Ford      Mustang             39992.818182\n",
       "audi      A6                  39498.571429\n",
       "BMW       6 Series            37532.222222\n",
       "Hyundai   Santa Fe            37044.500000\n",
       "vw        Amarok              36910.666667\n",
       "audi      A4                  35721.505618\n",
       "          TT                  35232.739130\n",
       "toyota    RAV4                34320.000000\n",
       "BMW       3 Series            34162.255034\n",
       "          Z4                  33788.050000\n",
       "          5 Series            33138.184615\n",
       "vw        Tiguan Allspace     33094.000000\n",
       "audi      Q3                  33010.872180\n",
       "vw        Arteon              32076.250000\n",
       "skoda     Kodiaq              31834.119048\n",
       "audi      A5                  31821.123288\n",
       "BMW       4 Series            31601.835821\n",
       "          X2                  30852.018868\n",
       "Ford      S-MAX               30697.600000\n",
       "vw        Tiguan              30430.579439\n",
       "          Sharan              30321.727273\n",
       "BMW       X1                  29993.400000\n",
       "toyota    Hilux               29748.400000\n",
       "Ford      Kuga                29059.500000\n",
       "skoda     Superb              28894.300000\n",
       "Name: price, dtype: float64"
      ]
     },
     "execution_count": 41,
     "metadata": {},
     "output_type": "execute_result"
    }
   ],
   "source": [
    "df.groupby(['Make','model'])['price'].mean().sort_values().nlargest(50)\n"
   ]
  },
  {
   "cell_type": "code",
   "execution_count": 25,
   "id": "ed0a2ab0",
   "metadata": {},
   "outputs": [
    {
     "data": {
      "text/plain": [
       "Make    model                 \n",
       "vw       Golf                     241\n",
       "         Polo                     151\n",
       "BMW      3 Series                 149\n",
       "audi     Q3                       133\n",
       "vw       T-Roc                    130\n",
       "                                 ... \n",
       "Ford     Tourneo Connect            1\n",
       "         Grand Tourneo Connect      1\n",
       "         Ka+                        1\n",
       "toyota   Camry                      1\n",
       "audi     SQ5                        1\n",
       "Name: model, Length: 92, dtype: int64"
      ]
     },
     "execution_count": 25,
     "metadata": {},
     "output_type": "execute_result"
    }
   ],
   "source": [
    "df.groupby(['Make','model'])['model'].count().sort_values().nlargest(100)\n"
   ]
  },
  {
   "cell_type": "code",
   "execution_count": 43,
   "id": "5ef76256",
   "metadata": {},
   "outputs": [
    {
     "data": {
      "text/plain": [
       "model      transmission\n",
       " 3 Series  Semi-Auto       115\n",
       " Polo      Manual          110\n",
       " Golf      Semi-Auto       105\n",
       "           Manual          104\n",
       " Up        Manual           91\n",
       " 2 Series  Semi-Auto        78\n",
       " Fiesta    Manual           78\n",
       " T-Roc     Manual           74\n",
       " Q5        Semi-Auto        67\n",
       " Q3        Semi-Auto        64\n",
       " 4 Series  Semi-Auto        63\n",
       " 5 Series  Semi-Auto        60\n",
       " A5        Semi-Auto        59\n",
       " T-Cross   Manual           59\n",
       " A4        Semi-Auto        55\n",
       " Tiguan    Semi-Auto        54\n",
       " A1        Semi-Auto        50\n",
       " I10       Manual           48\n",
       " T-Roc     Semi-Auto        46\n",
       " Puma      Manual           45\n",
       " Tiguan    Manual           44\n",
       " X2        Semi-Auto        41\n",
       " Kodiaq    Automatic        38\n",
       " Focus     Manual           36\n",
       " 1 Series  Semi-Auto        36\n",
       " Passat    Semi-Auto        36\n",
       " Superb    Semi-Auto        36\n",
       " Q3        Manual           36\n",
       " Z4        Semi-Auto        35\n",
       " Polo      Semi-Auto        34\n",
       " Q3        Automatic        33\n",
       " Golf      Automatic        32\n",
       " T-Cross   Automatic        30\n",
       " Fabia     Manual           30\n",
       " Q2        Semi-Auto        30\n",
       " Scala     Manual           29\n",
       " X1        Semi-Auto        28\n",
       " A1        Manual           27\n",
       " EcoSport  Manual           26\n",
       " Corolla   Automatic        26\n",
       " X3        Semi-Auto        25\n",
       " A4        Automatic        24\n",
       " Octavia   Semi-Auto        24\n",
       " Q5        Automatic        24\n",
       " A3        Manual           23\n",
       " Q2        Manual           23\n",
       " Q7        Semi-Auto        22\n",
       " 3 Series  Automatic        20\n",
       " 2 Series  Manual           19\n",
       " Scala     Semi-Auto        19\n",
       "Name: model, dtype: int64"
      ]
     },
     "execution_count": 43,
     "metadata": {},
     "output_type": "execute_result"
    }
   ],
   "source": [
    "df.groupby(['model','transmission'])['model'].count().sort_values().nlargest(50)\n"
   ]
  },
  {
   "cell_type": "markdown",
   "id": "6f4b6fa9",
   "metadata": {},
   "source": [
    "### ¿Hay dependencias entre el tamaño del motor y el precio de venta?"
   ]
  },
  {
   "cell_type": "code",
   "execution_count": 11,
   "id": "03d7590f",
   "metadata": {},
   "outputs": [],
   "source": [
    "df['engineSize'] = df['engineSize'].str.replace(',','.')\n"
   ]
  },
  {
   "cell_type": "code",
   "execution_count": 13,
   "id": "9ad89123",
   "metadata": {},
   "outputs": [],
   "source": [
    "df['engineSize']=pd.to_numeric(df['engineSize'],errors='coerce')"
   ]
  },
  {
   "cell_type": "code",
   "execution_count": 28,
   "id": "3d95466a",
   "metadata": {},
   "outputs": [],
   "source": [
    "df['mpg'] = df['mpg'].str.replace(',','.')\n"
   ]
  },
  {
   "cell_type": "code",
   "execution_count": 29,
   "id": "5d3ba6d6",
   "metadata": {},
   "outputs": [],
   "source": [
    "df['mpg']=pd.to_numeric(df['mpg'],errors='coerce')"
   ]
  },
  {
   "cell_type": "code",
   "execution_count": 17,
   "id": "74e35249",
   "metadata": {},
   "outputs": [
    {
     "data": {
      "text/plain": [
       "<AxesSubplot:xlabel='engineSize', ylabel='price'>"
      ]
     },
     "execution_count": 17,
     "metadata": {},
     "output_type": "execute_result"
    },
    {
     "data": {
      "image/png": "[encoded data removed]",
      "text/plain": [
       "<Figure size 432x288 with 1 Axes>"
      ]
     },
     "metadata": {
      "needs_background": "light"
     },
     "output_type": "display_data"
    }
   ],
   "source": [
    "sns.regplot(data=df,x=df['engineSize'],y=df['price'])"
   ]
  },
  {
   "cell_type": "code",
   "execution_count": 19,
   "id": "3bfaa22e",
   "metadata": {},
   "outputs": [
    {
     "data": {
      "text/plain": [
       "<AxesSubplot:>"
      ]
     },
     "execution_count": 19,
     "metadata": {},
     "output_type": "execute_result"
    },
    {
     "data": {
      "image/png": "[encoded data removed]",
      "text/plain": [
       "<Figure size 432x288 with 1 Axes>"
      ]
     },
     "metadata": {
      "needs_background": "light"
     },
     "output_type": "display_data"
    }
   ],
   "source": [
    "df.boxplot('tax')"
   ]
  },
  {
   "cell_type": "code",
   "execution_count": 34,
   "id": "49fc800d",
   "metadata": {},
   "outputs": [
    {
     "data": {
      "image/png": "[encoded data removed]",
      "text/plain": [
       "<Figure size 1440x576 with 2 Axes>"
      ]
     },
     "metadata": {
      "needs_background": "light"
     },
     "output_type": "display_data"
    }
   ],
   "source": [
    "corre_matrix=df.corr() #only for numerical filed\n",
    "plt.figure(figsize=(20,8))\n",
    "sns.heatmap(corre_matrix, annot=True);"
   ]
  },
  {
   "cell_type": "code",
   "execution_count": 38,
   "id": "e2f278e8",
   "metadata": {},
   "outputs": [],
   "source": [
    "df.to_csv('/Users/macbook/Documents/cars.csv', index = False)"
   ]
  },
  {
   "cell_type": "code",
   "execution_count": null,
   "id": "0c0825fe",
   "metadata": {},
   "outputs": [],
   "source": []
  }
 ],
 "metadata": {
  "kernelspec": {
   "display_name": "Python 3",
   "language": "python",
   "name": "python3"
  },
  "language_info": {
   "codemirror_mode": {
    "name": "ipython",
    "version": 3
   },
   "file_extension": ".py",
   "mimetype": "text/x-python",
   "name": "python",
   "nbconvert_exporter": "python",
   "pygments_lexer": "ipython3",
   "version": "3.8.8"
  },
  "toc": {
   "base_numbering": 1,
   "nav_menu": {},
   "number_sections": true,
   "sideBar": true,
   "skip_h1_title": false,
   "title_cell": "Table of Contents",
   "title_sidebar": "Contents",
   "toc_cell": false,
   "toc_position": {},
   "toc_section_display": true,
   "toc_window_display": false
  },
  "varInspector": {
   "cols": {
    "lenName": 16,
    "lenType": 16,
    "lenVar": 40
   },
   "kernels_config": {
    "python": {
     "delete_cmd_postfix": "",
     "delete_cmd_prefix": "del ",
     "library": "var_list.py",
     "varRefreshCmd": "print(var_dic_list())"
    },
    "r": {
     "delete_cmd_postfix": ") ",
     "delete_cmd_prefix": "rm(",
     "library": "var_list.r",
     "varRefreshCmd": "cat(var_dic_list()) "
    }
   },
   "types_to_exclude": [
    "module",
    "function",
    "builtin_function_or_method",
    "instance",
    "_Feature"
   ],
   "window_display": false
  }
 },
 "nbformat": 4,
 "nbformat_minor": 5
}
